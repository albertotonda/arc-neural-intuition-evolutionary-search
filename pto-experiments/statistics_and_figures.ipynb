{
 "cells": [
  {
   "cell_type": "markdown",
   "id": "9b192ac3-5193-4946-84e1-3e687fc1ec87",
   "metadata": {},
   "source": [
    "# Statistics and figures"
   ]
  },
  {
   "cell_type": "markdown",
   "id": "eef97baa-c580-4853-a978-bdfb75cace2c",
   "metadata": {},
   "source": [
    "## How many tasks per number of keywords"
   ]
  },
  {
   "cell_type": "code",
   "execution_count": 1,
   "id": "9f0417f2-4a9a-4fce-8c02-b8a96f255903",
   "metadata": {},
   "outputs": [],
   "source": [
    "import pandas as pd"
   ]
  },
  {
   "cell_type": "code",
   "execution_count": 2,
   "id": "920513d9-aa8b-4eb1-81f6-eea27dc683e0",
   "metadata": {},
   "outputs": [
    {
     "name": "stdout",
     "output_type": "stream",
     "text": [
      "For 0 keywords, found a total of 0 tasks: []\n",
      "For 1 keywords, found a total of 0 tasks: []\n",
      "For 2 keywords, found a total of 7 tasks: ['67a3c6ac' 'a416b8f3' '68b16354' 'ed36ccf7' '6150a2bd' '74dd1130'\n",
      " '3c9b0459']\n",
      "For 3 keywords, found a total of 8 tasks: ['8be77c9e' 'c59eb873' 'c9e6f938' '6fa7a44f' '6d0aefbc' '4c4377d9'\n",
      " '9172f3a0' '7468f01a']\n",
      "For 4 keywords, found a total of 8 tasks: ['b1948b0a' 'b91ae062' '5582e5ca' 'f25fbde4' 'd511f180' '2dee498d'\n",
      " 'd10ecb37' 'c8f0f002']\n",
      "For 5 keywords, found a total of 6 tasks: ['62c24649' '8d5021e8' '6f8cd79b' 'c1d99e64' '3af2c5a8' '67e8384a']\n",
      "For 6 keywords, found a total of 6 tasks: ['25ff71a9' '5bd6f4ac' '28bf18c6' '46442a0e' '46f33fce' '7fe24cdd']\n",
      "For 7 keywords, found a total of 5 tasks: ['dc1df850' '60b61512' 'a740d043' '7b7f7511' '6d75e8bb']\n",
      "For 8 keywords, found a total of 12 tasks: ['42a50994' '3aa6fb7a' '9565186b' '88a62173' '4258a5f9' '0b148d64'\n",
      " 'd631b094' 'ac0a08a4' 'f76d97a5' 'a79310a0' 'e9614598' '56ff96f3']\n",
      "For 9 keywords, found a total of 5 tasks: ['178fcbfb' 'ae4f1146' '72ca375d' 'f5b8619d' '928ad970']\n",
      "For 10 keywords, found a total of 12 tasks: ['ce22a75a' 'b60334d2' 'e8593010' '32597951' 'b27ca6d3' '0ca9ddb6'\n",
      " 'd5d6de2d' '0d3d703e' '50cb2852' '44f52bb0' '44d8ac46' '543a7ed5']\n"
     ]
    }
   ],
   "source": [
    "file_keywords = \"../data/neural_network_y.csv\"\n",
    "df = pd.read_csv(file_keywords)\n",
    "\n",
    "# count number of keywords used per task, by adding an extra column\n",
    "numeric_cols = df.select_dtypes(include=\"number\")\n",
    "df[\"row_sum\"] = numeric_cols.sum(axis=1)\n",
    "df = df.sort_values(by=\"row_sum\", ascending=True)\n",
    "\n",
    "for i in range(0, 11) :\n",
    "    df_s = df[df[\"row_sum\"] == i]\n",
    "    task_names = df_s[\"task_id\"].values\n",
    "    print(\"For %d keywords, found a total of %d tasks: %s\" % (i, df_s.shape[0], str(task_names)))"
   ]
  },
  {
   "cell_type": "code",
   "execution_count": null,
   "id": "34f6a715-3401-4968-8a3c-c9602e71bfe8",
   "metadata": {},
   "outputs": [],
   "source": []
  }
 ],
 "metadata": {
  "kernelspec": {
   "display_name": "Python 3 (ipykernel)",
   "language": "python",
   "name": "python3"
  },
  "language_info": {
   "codemirror_mode": {
    "name": "ipython",
    "version": 3
   },
   "file_extension": ".py",
   "mimetype": "text/x-python",
   "name": "python",
   "nbconvert_exporter": "python",
   "pygments_lexer": "ipython3",
   "version": "3.10.14"
  }
 },
 "nbformat": 4,
 "nbformat_minor": 5
}
